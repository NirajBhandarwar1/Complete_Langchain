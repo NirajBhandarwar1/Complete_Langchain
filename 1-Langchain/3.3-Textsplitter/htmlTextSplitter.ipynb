{
 "cells": [
  {
   "cell_type": "code",
   "execution_count": 2,
   "metadata": {},
   "outputs": [
    {
     "data": {
      "text/plain": [
       "[Document(metadata={}, page_content='Foo'),\n",
       " Document(metadata={'Header 1': 'Foo'}, page_content='Some intro text about Foo.  \\nBar main section Bar section 1 Bar section 2'),\n",
       " Document(metadata={'Header 1': 'Foo', 'Header 2': 'Bar main section'}, page_content='Some intro text about Foo.'),\n",
       " Document(metadata={'Header 1': 'Foo', 'Header 2': 'Bar main section', 'Header 3': 'Bar section 1'}, page_content='Some text about the first subtopic of Bar'),\n",
       " Document(metadata={'Header 1': 'Foo', 'Header 2': 'Bar main section', 'Header 3': 'Bar section 2'}, page_content='Some text about the second sub topic of Bar'),\n",
       " Document(metadata={'Header 1': 'Foo'}, page_content='Baz'),\n",
       " Document(metadata={'Header 1': 'Foo', 'Header 2': 'Baz'}, page_content='Some text about Baz'),\n",
       " Document(metadata={'Header 1': 'Foo'}, page_content='Some concluding text about Foo')]"
      ]
     },
     "execution_count": 2,
     "metadata": {},
     "output_type": "execute_result"
    }
   ],
   "source": [
    "from langchain_text_splitters import HTMLHeaderTextSplitter\n",
    "\n",
    "html_string = \"\"\"\n",
    "<!DOCTYPE html>\n",
    "<html>\n",
    "<body>\n",
    "\t<div>\n",
    "\t\t<h1>Foo</h1>\n",
    "\t\t<p>Some intro text about Foo.</p>\n",
    "\t\t<div>\n",
    "\t\t    <h2>Bar main section</h2>\n",
    "\t\t    <p>Some intro text about Foo.</p>\n",
    "\t\t    <h3>Bar section 1</h3>\n",
    "\t\t    <p>Some text about the first subtopic of Bar</p>\n",
    "\t\t    <h3>Bar section 2</h2>\n",
    "\t\t    <p>Some text about the second sub topic of Bar</p>\n",
    "\t\t</div>\n",
    "\t\t<div>\n",
    "\t\t    <h2>Baz</h2>\n",
    "\t\t    <p>Some text about Baz</p>\n",
    "\t\t</div>\n",
    "\t\t<br>\n",
    "\t\t<p>Some concluding text about Foo</p>\n",
    "\t</div>\n",
    "</body>\n",
    "</html>\n",
    "\"\"\"\n",
    "\n",
    "header_to_split_on=[\n",
    "    (\"h1\",\"Header 1\"),\n",
    "    (\"h2\",\"Header 2\"),\n",
    "    (\"h3\",\"Header 3\")\n",
    "]\n",
    "\n",
    "html_splitter=HTMLHeaderTextSplitter(header_to_split_on)\n",
    "html_header_splits=html_splitter.split_text(html_string)\n",
    "html_header_splits"
   ]
  },
  {
   "cell_type": "code",
   "execution_count": null,
   "metadata": {},
   "outputs": [],
   "source": []
  }
 ],
 "metadata": {
  "kernelspec": {
   "display_name": "Python 3",
   "language": "python",
   "name": "python3"
  },
  "language_info": {
   "codemirror_mode": {
    "name": "ipython",
    "version": 3
   },
   "file_extension": ".py",
   "mimetype": "text/x-python",
   "name": "python",
   "nbconvert_exporter": "python",
   "pygments_lexer": "ipython3",
   "version": "3.10.0"
  }
 },
 "nbformat": 4,
 "nbformat_minor": 2
}
